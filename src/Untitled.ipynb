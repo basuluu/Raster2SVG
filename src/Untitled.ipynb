{
 "cells": [
  {
   "cell_type": "code",
   "execution_count": 1,
   "metadata": {
    "scrolled": true
   },
   "outputs": [],
   "source": [
    "import cv2\n",
    "\n",
    "\n",
    "img = cv2.imread('img/apple.jpg', 0)\n",
    "# img, contours, hierarchy = cv2.findContours(img, cv2.cv2.RETR_TREE, cv2.CHAIN_APPROX_TC89_KCOS)\n"
   ]
  },
  {
   "cell_type": "code",
   "execution_count": 28,
   "metadata": {},
   "outputs": [
    {
     "ename": "TypeError",
     "evalue": "contours is not a numerical tuple",
     "output_type": "error",
     "traceback": [
      "\u001b[0;31m---------------------------------------------------------------------------\u001b[0m",
      "\u001b[0;31mTypeError\u001b[0m                                 Traceback (most recent call last)",
      "\u001b[0;32m<ipython-input-28-66dcb3acc689>\u001b[0m in \u001b[0;36m<module>\u001b[0;34m\u001b[0m\n\u001b[0;32m----> 1\u001b[0;31m \u001b[0mcv2\u001b[0m\u001b[0;34m.\u001b[0m\u001b[0mdrawContours\u001b[0m\u001b[0;34m(\u001b[0m\u001b[0mimg\u001b[0m\u001b[0;34m,\u001b[0m \u001b[0;34m[\u001b[0m\u001b[0mcountrs\u001b[0m\u001b[0;34m]\u001b[0m\u001b[0;34m,\u001b[0m \u001b[0;34m-\u001b[0m\u001b[0;36m1\u001b[0m\u001b[0;34m,\u001b[0m \u001b[0;34m(\u001b[0m\u001b[0;36m0\u001b[0m\u001b[0;34m,\u001b[0m\u001b[0;36m255\u001b[0m\u001b[0;34m,\u001b[0m\u001b[0;36m0\u001b[0m\u001b[0;34m)\u001b[0m\u001b[0;34m,\u001b[0m \u001b[0;36m3\u001b[0m\u001b[0;34m)\u001b[0m\u001b[0;34m\u001b[0m\u001b[0;34m\u001b[0m\u001b[0m\n\u001b[0m",
      "\u001b[0;31mTypeError\u001b[0m: contours is not a numerical tuple"
     ]
    }
   ],
   "source": [
    "# cv2.drawContours(img, [countrs], -1, (0,255,0), 3)"
   ]
  },
  {
   "cell_type": "code",
   "execution_count": 31,
   "metadata": {},
   "outputs": [
    {
     "data": {
      "text/plain": [
       "True"
      ]
     },
     "execution_count": 31,
     "metadata": {},
     "output_type": "execute_result"
    }
   ],
   "source": [
    "cv2.imwrite('img/apple-count.jpg', img)"
   ]
  },
  {
   "cell_type": "code",
   "execution_count": 1,
   "metadata": {},
   "outputs": [
    {
     "name": "stdout",
     "output_type": "stream",
     "text": [
      "[ 98 108 116 148 153 187 253]\n"
     ]
    },
    {
     "ename": "ValueError",
     "evalue": "too many values to unpack (expected 2)",
     "output_type": "error",
     "traceback": [
      "\u001b[0;31m---------------------------------------------------------------------------\u001b[0m",
      "\u001b[0;31mValueError\u001b[0m                                Traceback (most recent call last)",
      "\u001b[0;32m<timed exec>\u001b[0m in \u001b[0;36m<module>\u001b[0;34m\u001b[0m\n",
      "\u001b[0;31mValueError\u001b[0m: too many values to unpack (expected 2)"
     ]
    }
   ],
   "source": [
    "%%time\n",
    "from scipy.ndimage import label, find_objects\n",
    "import cv2 \n",
    "import numpy as np\n",
    "from img_preperation import img_quantize, img_blur, read_img\n",
    "from spline import Spline\n",
    "from outline import get_outline_points\n",
    "from SVGBuilder import SVGBuilder\n",
    "\n",
    "\n",
    "img = cv2.imread('img/apple.jpg')\n",
    "img = img_blur(img)\n",
    "img = img_quantize(img, 7)\n",
    "img = cv2.cvtColor(img, cv2.COLOR_RGB2GRAY)\n",
    "\n",
    "svg = SVGBuilder()\n",
    "\n",
    "for color in np.unique(img):\n",
    "    img[img!=color] = 0\n",
    "    matrix, count = label(img)\n",
    "\n",
    "    matrix[matrix!=0] = 255\n",
    "    matrix = matrix.astype('uint8')\n",
    "\n",
    "# show_img(matrix.astype('uint8'))\n",
    "\n",
    "    countrs, _ = cv2.findContours(matrix, cv2.cv2.RETR_TREE, cv2.CHAIN_APPROX_TC89_KCOS)\n",
    "    \n",
    "    for i in range(len(countrs)):    \n",
    "        outline_on_matrix = list(zip(countrs[i].T[0][0], countrs[i].T[1][0]))\n",
    "        #countrs[0], countrs[1], countrs[2] и т.д.\n",
    "        outline_on_img = Spline.get_cubic_b_spline_points(np.array(outline_on_matrix))\n",
    "\n",
    "        fill = f\"rgb({','.join(map(str, color))})\"\n",
    "        \n",
    "        svg.add_spline_element(outline_on_img, fill)\n",
    "\n",
    "svg.save_as_svg('vot-eto-new.svg')"
   ]
  },
  {
   "cell_type": "code",
   "execution_count": 40,
   "metadata": {},
   "outputs": [],
   "source": [
    "def show_img(frame):\n",
    "    print(frame)\n",
    "    cv2.imshow('image', frame)\n",
    "    cv2.waitKey(0)\n",
    "    cv2.destroyAllWindows()"
   ]
  },
  {
   "cell_type": "code",
   "execution_count": 24,
   "metadata": {},
   "outputs": [
    {
     "name": "stdout",
     "output_type": "stream",
     "text": [
      "4\n",
      "1\n",
      "59\n",
      "2\n",
      "22\n",
      "13\n",
      "1\n",
      "CPU times: user 36.8 ms, sys: 0 ns, total: 36.8 ms\n",
      "Wall time: 33.7 ms\n"
     ]
    }
   ],
   "source": [
    "%%time\n",
    "from copy import deepcopy\n",
    "\n",
    "# В чем идея\n",
    "# img[img!=255] = 0, вот так можно создать маску нужную мне\n",
    "# мы оставляем 1 какой-то цвет, например 255, а все остальные убираем\n",
    "# потом мы можем использовать scipy.ndimage.label, который среди 2ух цветов, находит уникальные группы\n",
    "# потом по возращаемой матрице, мы можем найти объекты, вполне конкретные слайсы\n",
    "# сложность алгоритма сильно упадет, потому что не надо будет искать все 255 цветов, а только заданное пользователем\n",
    "\n",
    "for x in np.unique(img):\n",
    "    img_test = deepcopy(img)\n",
    "    img_test[img_test!=x] = 0\n",
    "    matrix, count = label(img_test)\n",
    "    print(count)\n",
    "    find_objects(matrix)"
   ]
  },
  {
   "cell_type": "code",
   "execution_count": 84,
   "metadata": {},
   "outputs": [
    {
     "data": {
      "text/plain": [
       "array([[0, 0, 0, ..., 0, 0, 0],\n",
       "       [0, 0, 0, ..., 0, 0, 0],\n",
       "       [0, 0, 0, ..., 0, 0, 0],\n",
       "       ...,\n",
       "       [0, 0, 0, ..., 0, 0, 0],\n",
       "       [0, 0, 0, ..., 0, 0, 0],\n",
       "       [0, 0, 0, ..., 0, 0, 0]], dtype=uint8)"
      ]
     },
     "execution_count": 84,
     "metadata": {},
     "output_type": "execute_result"
    }
   ],
   "source": [
    "matrix.astype('uint8')"
   ]
  },
  {
   "cell_type": "code",
   "execution_count": 88,
   "metadata": {},
   "outputs": [
    {
     "name": "stdout",
     "output_type": "stream",
     "text": [
      "absl-py==0.9.0\n",
      "aiohttp==3.6.2\n",
      "amqp==2.5.2\n",
      "asn1crypto==0.24.0\n",
      "astroid==2.3.3\n",
      "astunparse==1.6.3\n",
      "async-timeout==3.0.1\n",
      "attrs==19.1.0\n",
      "backcall==0.1.0\n",
      "beautifulsoup4==4.8.0\n",
      "billiard==3.6.3.0\n",
      "bleach==3.1.0\n",
      "bs4==0.0.1\n",
      "cachetools==3.1.1\n",
      "cairocffi==1.1.0\n",
      "CairoSVG==2.4.2\n",
      "celery==4.4.0\n",
      "certifi==2019.6.16\n",
      "cffi==1.12.3\n",
      "chardet==3.0.4\n",
      "clarifai==2.6.2\n",
      "click==7.1.2\n",
      "cloudpickle==1.4.1\n",
      "conda==4.3.16\n",
      "configparser==4.0.2\n",
      "cryptography==2.9.2\n",
      "cssselect==1.0.3\n",
      "cssselect2==0.2.2\n",
      "cycler==0.10.0\n",
      "Cython==0.29.14\n",
      "DAWG-Python==0.7.2\n",
      "decorator==4.4.2\n",
      "defusedxml==0.6.0\n",
      "detectron2==0.1.1+cpu\n",
      "Django==2.2.3\n",
      "django-admin-json-editor==0.2.0\n",
      "django-jsoneditor==0.1.6\n",
      "docopt==0.6.2\n",
      "EasyProcess==0.2.7\n",
      "emoji==0.5.4\n",
      "entrypoints==0.3\n",
      "environ==1.0\n",
      "et-xmlfile==1.0.1\n",
      "fire==0.2.1\n",
      "Flask==1.1.2\n",
      "future==0.17.1\n",
      "fvcore==0.1.1.post20200617\n",
      "gast==0.3.3\n",
      "google-api-core==1.16.0\n",
      "google-api-python-client==1.7.11\n",
      "google-auth==1.12.0\n",
      "google-auth-httplib2==0.0.3\n",
      "google-auth-oauthlib==0.4.1\n",
      "google-cloud-core==1.3.0\n",
      "google-cloud-storage==1.26.0\n",
      "google-pasta==0.2.0\n",
      "google-resumable-media==0.5.0\n",
      "googleapis-common-protos==1.6.0\n",
      "googlemaps==4.4.1\n",
      "grpcio==1.25.0\n",
      "gspread==3.1.0\n",
      "gspread-dataframe==3.0.3\n",
      "h5py==2.10.0\n",
      "httplib2==0.13.1\n",
      "idna==2.8\n",
      "image==1.5.32\n",
      "imageio==2.9.0\n",
      "ImageScraper==2.0.7\n",
      "importlib-metadata==1.5.0\n",
      "imutils==0.5.3\n",
      "InstagramAPI==1.0.2\n",
      "install==1.3.1\n",
      "instapy==0.6.6\n",
      "ipykernel==5.1.1\n",
      "ipython==7.7.0\n",
      "ipython-genutils==0.2.0\n",
      "isort==4.3.21\n",
      "itsdangerous==1.1.0\n",
      "jdcal==1.4.1\n",
      "jedi==0.14.1\n",
      "Jinja2==2.10.1\n",
      "joblib==0.14.1\n",
      "jsonschema==2.6.0\n",
      "jupyter-client==5.3.1\n",
      "jupyter-core==4.5.0\n",
      "Keras-Preprocessing==1.1.2\n",
      "kiwisolver==1.1.0\n",
      "kombu==4.6.7\n",
      "lazy-object-proxy==1.4.3\n",
      "lesscpy==0.13.0\n",
      "llvmlite==0.33.0\n",
      "lxml==4.4.0\n",
      "Markdown==3.2.2\n",
      "MarkupSafe==1.1.1\n",
      "matplotlib==3.1.2\n",
      "mccabe==0.6.1\n",
      "MeaningCloud-python==1.2.1\n",
      "mistune==0.8.4\n",
      "mock==4.0.2\n",
      "moviepy==0.2.3.2\n",
      "multidict==4.6.1\n",
      "mutagen==1.43.0\n",
      "mysqlclient==1.4.2.post1\n",
      "nbconvert==5.5.0\n",
      "nbformat==4.4.0\n",
      "networkx==2.4\n",
      "notebook==6.0.0\n",
      "numba==0.50.1\n",
      "numpy==1.17.0\n",
      "oauth2client==4.1.3\n",
      "oauthlib==3.1.0\n",
      "opencv-contrib-python==3.4.3.18\n",
      "openpyxl==2.6.2\n",
      "opt-einsum==3.2.1\n",
      "packaging==20.3\n",
      "pandas==0.25.0\n",
      "pandocfilters==1.4.2\n",
      "parse==1.12.0\n",
      "parso==0.5.1\n",
      "pexpect==4.7.0\n",
      "pickleshare==0.7.5\n",
      "Pillow==6.1.0\n",
      "pipenv==2018.11.26\n",
      "playsound==1.2.2\n",
      "ply==3.11\n",
      "plyer==1.4.2\n",
      "portalocker==1.7.0\n",
      "prometheus-client==0.7.1\n",
      "prompt-toolkit==2.0.9\n",
      "protobuf==3.11.1\n",
      "psycopg2==2.8.3\n",
      "ptyprocess==0.6.0\n",
      "py4j==0.10.7\n",
      "pyasn1==0.4.6\n",
      "pyasn1-modules==0.2.6\n",
      "PyAudio==0.2.11\n",
      "pycocotools==2.0\n",
      "pycosat==0.6.3\n",
      "pycparser==2.19\n",
      "pydot==1.4.1\n",
      "pydub==0.23.1\n",
      "pygame==1.9.6\n",
      "pyglet==1.3.2\n",
      "Pygments==2.4.2\n",
      "pylint==2.4.4\n",
      "pylsd==0.0.2\n",
      "pymorphy2==0.8\n",
      "pymorphy2-dicts==2.4.393442.3710985\n",
      "pyparsing==2.4.5\n",
      "pypng==0.0.20\n",
      "pyquery==1.4.0\n",
      "pyrsistent==0.15.3\n",
      "pysam==0.15.4\n",
      "PySocks==1.5.7\n",
      "pyspark==2.4.4\n",
      "pyTelegramBotAPI==3.6.6\n",
      "python-dateutil==2.8.0\n",
      "python-telegram-bot==12.2.0\n",
      "pytz==2019.1\n",
      "PyVirtualDisplay==0.2.4\n",
      "PyWavelets==1.1.1\n",
      "pywebcopy==6.0.0\n",
      "PyYAML==5.1\n",
      "pyzmq==18.0.2\n",
      "regex==2019.12.9\n",
      "requests==2.23.0\n",
      "requests-oauthlib==1.2.0\n",
      "requests-toolbelt==0.7.0\n",
      "rsa==4.0\n",
      "ruamel.yaml==0.16.10\n",
      "ruamel.yaml.clib==0.2.0\n",
      "scikit-image==0.17.2\n",
      "scikit-learn==0.22\n",
      "scipy==1.4.1\n",
      "selenium==3.141.0\n",
      "Send2Trash==1.5.0\n",
      "setproctitle==1.1.10\n",
      "SimplePool==0.1\n",
      "six==1.12.0\n",
      "sklearn==0.0\n",
      "soupsieve==1.9.2\n",
      "SpeechRecognition==3.8.1\n",
      "sqlparse==0.3.0\n",
      "tabulate==0.8.7\n",
      "tensorboard==2.2.2\n",
      "tensorboard-plugin-wit==1.6.0.post3\n",
      "tensorboard-pytorch==0.7.1\n",
      "tensorboardX==2.0\n",
      "tensorflow-estimator==2.2.0\n",
      "termcolor==1.1.0\n",
      "terminado==0.8.2\n",
      "testpath==0.4.2\n",
      "tifffile==2020.7.17\n",
      "tinycss2==1.0.2\n",
      "torch==1.4.0+cpu\n",
      "torchvision==0.5.0+cpu\n",
      "tornado==6.0.3\n",
      "tqdm==4.46.1\n",
      "traitlets==4.3.2\n",
      "typed-ast==1.4.0\n",
      "uritemplate==3.0.0\n",
      "urllib3==1.25.3\n",
      "varName==0.0.1\n",
      "vine==1.3.0\n",
      "virtualenv==16.7.2\n",
      "virtualenv-clone==0.5.3\n",
      "w3lib==1.20.0\n",
      "wcwidth==0.1.7\n",
      "webdriverdownloader==1.0.0.1\n",
      "webencodings==0.5.1\n",
      "Werkzeug==1.0.1\n",
      "wit==5.1.0\n",
      "wrapt==1.11.2\n",
      "xlrd==1.2.0\n",
      "xsmtplib==1.0.0.dev1\n",
      "yacs==0.1.7\n",
      "yarl==1.3.0\n",
      "zipp==3.0.0\n",
      "Note: you may need to restart the kernel to use updated packages.\n"
     ]
    }
   ],
   "source": [
    "pip freeze"
   ]
  },
  {
   "cell_type": "code",
   "execution_count": 71,
   "metadata": {},
   "outputs": [
    {
     "data": {
      "text/plain": [
       "array([[1, 1, 1, ..., 1, 1, 1],\n",
       "       [1, 1, 1, ..., 1, 1, 1],\n",
       "       [1, 1, 1, ..., 1, 1, 1],\n",
       "       ...,\n",
       "       [1, 1, 1, ..., 1, 1, 1],\n",
       "       [1, 1, 1, ..., 1, 1, 1],\n",
       "       [1, 1, 1, ..., 1, 1, 1]], dtype=uint8)"
      ]
     },
     "execution_count": 71,
     "metadata": {},
     "output_type": "execute_result"
    }
   ],
   "source": []
  },
  {
   "cell_type": "code",
   "execution_count": 68,
   "metadata": {},
   "outputs": [
    {
     "data": {
      "text/plain": [
       "array([[253, 253, 253, ..., 253, 253, 253],\n",
       "       [253, 253, 253, ..., 253, 253, 253],\n",
       "       [253, 253, 253, ..., 253, 253, 253],\n",
       "       ...,\n",
       "       [253, 253, 253, ..., 253, 253, 253],\n",
       "       [253, 253, 253, ..., 253, 253, 253],\n",
       "       [253, 253, 253, ..., 253, 253, 253]], dtype=uint8)"
      ]
     },
     "execution_count": 68,
     "metadata": {},
     "output_type": "execute_result"
    }
   ],
   "source": [
    "img"
   ]
  },
  {
   "cell_type": "code",
   "execution_count": null,
   "metadata": {},
   "outputs": [],
   "source": []
  }
 ],
 "metadata": {
  "kernelspec": {
   "display_name": "Python 3",
   "language": "python",
   "name": "python3"
  },
  "language_info": {
   "codemirror_mode": {
    "name": "ipython",
    "version": 3
   },
   "file_extension": ".py",
   "mimetype": "text/x-python",
   "name": "python",
   "nbconvert_exporter": "python",
   "pygments_lexer": "ipython3",
   "version": "3.7.3"
  }
 },
 "nbformat": 4,
 "nbformat_minor": 2
}
